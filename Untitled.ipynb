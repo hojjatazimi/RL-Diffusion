{
 "cells": [
  {
   "cell_type": "code",
   "execution_count": 1,
   "id": "268cc4f2-4e05-4d60-a3bb-1b2f69d30a51",
   "metadata": {},
   "outputs": [],
   "source": [
    "import numpy as np\n",
    "from time import time"
   ]
  },
  {
   "cell_type": "code",
   "execution_count": 2,
   "id": "666671a7-b936-45ac-a318-71dbf0cd7528",
   "metadata": {},
   "outputs": [],
   "source": [
    "import torch\n",
    "import torch.nn.functional as F\n",
    "import numpy as np\n",
    "from torch import nn\n",
    "from tqdm import tqdm\n",
    "import torch.utils.data\n",
    "import matplotlib.pyplot as plt\n",
    "from sklearn.datasets import make_swiss_roll\n",
    "from sklearn.metrics import mean_squared_error"
   ]
  },
  {
   "cell_type": "code",
   "execution_count": 3,
   "id": "d2240e42-4a28-47e1-9de1-d1239c80b506",
   "metadata": {},
   "outputs": [],
   "source": [
    "def sample_batch(size):\n",
    "    x, _ = make_swiss_roll(size)\n",
    "    return x[:, [2, 0]] / 10.0 * np.array([1, -1])"
   ]
  },
  {
   "cell_type": "code",
   "execution_count": 4,
   "id": "dbfc47d6-cd01-4431-a2d5-85daff664756",
   "metadata": {},
   "outputs": [],
   "source": [
    "def swiss_roll_reward(input_matrix, reference_swiss_roll):\n",
    "    # Ensure input_matrix is processed similarly to the reference swiss roll\n",
    "    # input_matrix_processed = input_matrix[:, [2, 0]] / 10.0 * np.array([1, -1])\n",
    "    \n",
    "    # Step 3: Measure similarity using MSE\n",
    "    mse = mean_squared_error(reference_swiss_roll, input_matrix)\n",
    "    \n",
    "    # Step 4: Calculate reward (higher reward for lower mse)\n",
    "    reward = 1 / (1 + mse)\n",
    "    \n",
    "    return reward"
   ]
  },
  {
   "cell_type": "code",
   "execution_count": null,
   "id": "25cd9ea3-3713-4204-be4f-7b2b28f97634",
   "metadata": {},
   "outputs": [],
   "source": [
    "class MLP(nn.Module):\n",
    "    def __init__(self, N=40, data_dim=2, hidden_dim=64):\n",
    "        super(MLP, self).__init__()\n",
    "        self.network_head = nn.Sequential(\n",
    "            nn.Linear(data_dim + 1, hidden_dim),\n",
    "            nn.ReLU(),\n",
    "            # nn.BatchNorm1d(hidden_dim),  # Added batch normalization\n",
    "            nn.Linear(hidden_dim, hidden_dim),\n",
    "            nn.ReLU(),\n",
    "            # nn.BatchNorm1d(hidden_dim),  # Added batch normalization\n",
    "        )\n",
    "        self.network_tail = nn.Sequential(\n",
    "            nn.Linear(hidden_dim, hidden_dim),\n",
    "            nn.ReLU(),\n",
    "            # nn.BatchNorm1d(hidden_dim),  # Added batch normalization\n",
    "            nn.Linear(hidden_dim, data_dim * 2)\n",
    "        )\n",
    "\n",
    "    def forward(self, x, t):\n",
    "        t = torch.tensor([t] * len(x)).to('mps')\n",
    "        t = t.unsqueeze(1)  # Ensure timestep has the right shape\n",
    "        x = torch.cat([x, t], dim=1)\n",
    "        h = self.network_head(x)\n",
    "        return self.network_tail(h)"
   ]
  },
  {
   "cell_type": "code",
   "execution_count": 5,
   "id": "fb09295e-6aaf-44e1-b967-e160f9467379",
   "metadata": {},
   "outputs": [],
   "source": [
    "class PolicyNetwork(nn.Module):\n",
    "    def __init__(self, state_dim, action_dim, device='mps', hidden_dim=128):\n",
    "        super(PolicyNetwork, self).__init__()\n",
    "        self.fc1 = nn.Linear(state_dim + 1, hidden_dim)\n",
    "        self.fc2 = nn.Linear(hidden_dim, hidden_dim)\n",
    "        self.mean = nn.Linear(hidden_dim, action_dim)\n",
    "        self.log_std = nn.Linear(hidden_dim, action_dim)\n",
    "        self.device = device\n",
    "\n",
    "    def forward(self, state, t):\n",
    "        t = torch.tensor([t] * len(state)).to(self.device)\n",
    "        t = t.unsqueeze(1)\n",
    "        state = torch.cat([state, t], dim=1)\n",
    "        x = F.relu(self.fc1(state))\n",
    "        x = F.relu(self.fc2(x))\n",
    "        mean = self.mean(x)\n",
    "        log_std = self.log_std(x)\n",
    "        std = torch.exp(log_std)\n",
    "        return mean, std"
   ]
  },
  {
   "cell_type": "code",
   "execution_count": 6,
   "id": "84320e04-6f1e-40f9-b388-6278a9709187",
   "metadata": {},
   "outputs": [],
   "source": [
    "class DiffusionModel(nn.Module):\n",
    "\n",
    "    def __init__(self, model: nn.Module, n_steps=40, device='mps'):\n",
    "        super().__init__()\n",
    "\n",
    "        self.model = model\n",
    "        self.device = device\n",
    "\n",
    "        betas = torch.linspace(-18, 10, n_steps)\n",
    "        self.beta = torch.sigmoid(betas) * (3e-1 - 1e-5) + 1e-5\n",
    "\n",
    "        self.alpha = 1. - self.beta\n",
    "        self.alpha_bar = torch.cumprod(self.alpha, dim=0)\n",
    "        self.n_steps = n_steps\n",
    "        self.sigma2 = self.beta\n",
    "\n",
    "    def forward_process(self, x0, t):\n",
    "\n",
    "        t = t - 1  # Start indexing at 0\n",
    "        beta_forward = self.beta[t]\n",
    "        alpha_forward = self.alpha[t]\n",
    "        alpha_cum_forward = self.alpha_bar[t]\n",
    "        xt = x0 * torch.sqrt(alpha_cum_forward) + torch.randn_like(x0) * torch.sqrt(1. - alpha_cum_forward)\n",
    "        # Retrieved from https://github.com/Sohl-Dickstein/Diffusion-Probabilistic-Models/blob/master/model.py#L203\n",
    "        mu1_scl = torch.sqrt(alpha_cum_forward / alpha_forward)\n",
    "        mu2_scl = 1. / torch.sqrt(alpha_forward)\n",
    "        cov1 = 1. - alpha_cum_forward / alpha_forward\n",
    "        cov2 = beta_forward / alpha_forward\n",
    "        lam = 1. / cov1 + 1. / cov2\n",
    "        mu = (x0 * mu1_scl / cov1 + xt * mu2_scl / cov2) / lam\n",
    "        sigma = torch.sqrt(1. / lam)\n",
    "        return mu, sigma, xt\n",
    "\n",
    "    def reverse(self, xt, t):\n",
    "\n",
    "        t = t - 1  # Start indexing at 0\n",
    "        if t == 0: return None, None, xt\n",
    "        mu, sigma = None, None\n",
    "        mu, h = self.model(xt, t).chunk(2, dim=1)\n",
    "        sigma = torch.sqrt(torch.exp(h))\n",
    "        samples = mu + torch.randn_like(xt) * sigma\n",
    "        if torch.isnan(mu).any() or torch.isnan(sigma).any():\n",
    "            print(f\"NaN detected in reverse process at step {t}: mu or sigma is NaN\")\n",
    "            print(f\"mu: {mu}\")\n",
    "            print(f\"sigma: {sigma}\")\n",
    "        return mu, sigma, samples\n",
    "\n",
    "    def sample(self, size, device):\n",
    "        noise = torch.randn((size, 2)).to(device)\n",
    "        samples = [noise]\n",
    "        for t in range(self.n_steps):\n",
    "            _, _, x = self.reverse(samples[-1], self.n_steps - t - 1 + 1)\n",
    "            samples.append(x)\n",
    "        return samples"
   ]
  },
  {
   "cell_type": "code",
   "execution_count": null,
   "id": "465d8354-af85-4422-aad2-274a3fd60f76",
   "metadata": {},
   "outputs": [],
   "source": [
    "def plot(model):\n",
    "    plt.figure(figsize=(10, 6))\n",
    "    x0 = sample_batch(5000).astype(np.float32)\n",
    "    x20 = model.forward_process(torch.from_numpy(x0).to(device), 20)[-1].data.cpu().numpy()\n",
    "    x40 = model.forward_process(torch.from_numpy(x0).to(device), 40)[-1].data.cpu().numpy()\n",
    "    data = [x0, x20, x40]\n",
    "    for i, t in enumerate([0, 20, 39]):\n",
    "        plt.subplot(2, 3, 1 + i)\n",
    "        plt.scatter(data[i][:, 0], data[i][:, 1], alpha=.1, s=1)\n",
    "        plt.xlim([-2, 2])\n",
    "        plt.ylim([-2, 2])\n",
    "        plt.gca().set_aspect('equal')\n",
    "        if t == 0: plt.ylabel(r'$q(\\mathbf{x}^{(0...T)})$', fontsize=17, rotation=0, labelpad=60)\n",
    "        if i == 0: plt.title(r'$t=0$', fontsize=17)\n",
    "        if i == 1: plt.title(r'$t=\\frac{T}{2}$', fontsize=17)\n",
    "        if i == 2: plt.title(r'$t=T$', fontsize=17)\n",
    "\n",
    "    samples = model.sample(5000, device)\n",
    "    for i, t in enumerate([0, 20, 40]):\n",
    "        plt.subplot(2, 3, 4 + i)\n",
    "        plt.scatter(samples[40 - t][:, 0].data.cpu().numpy(), samples[40 - t][:, 1].data.cpu().numpy(),\n",
    "                    alpha=.1, s=1, c='r')\n",
    "        plt.xlim([-2, 2])\n",
    "        plt.ylim([-2, 2])\n",
    "        plt.gca().set_aspect('equal')\n",
    "        if t == 0: plt.ylabel(r'$p(\\mathbf{x}^{(0...T)})$', fontsize=17, rotation=0, labelpad=60)\n",
    "    plt.savefig(\"Imgs/diffusion_model_\"+str(time())+\".png\", bbox_inches='tight')\n",
    "    plt.close()"
   ]
  },
  {
   "cell_type": "code",
   "execution_count": null,
   "id": "84cd14f1-814a-48ca-8648-95619da17748",
   "metadata": {},
   "outputs": [],
   "source": [
    "def train(model, optimizer, nb_epochs=150_000, batch_size=64_000):\n",
    "    training_loss = []\n",
    "    for _ in tqdm(range(nb_epochs)):\n",
    "        x0 = torch.from_numpy(sample_batch(batch_size)).float().to(device)\n",
    "        t = np.random.randint(2, 40 + 1)\n",
    "        mu_posterior, sigma_posterior, xt = model.forward_process(x0, t)\n",
    "        mu, sigma, _ = model.reverse(xt, t)\n",
    "\n",
    "        KL = (torch.log(sigma) - torch.log(sigma_posterior) + (sigma_posterior ** 2 + (mu_posterior - mu) ** 2) / (\n",
    "                2 * sigma ** 2) - 0.5)\n",
    "        loss = KL.mean()\n",
    "\n",
    "        optimizer.zero_grad()\n",
    "        loss.backward()\n",
    "        optimizer.step()\n",
    "        training_loss.append(loss.item())"
   ]
  },
  {
   "cell_type": "code",
   "execution_count": 7,
   "id": "c12c40b0-0ef1-419c-ac4c-3b06ac0af973",
   "metadata": {},
   "outputs": [],
   "source": [
    "import torch.distributions as dist\n",
    "\n",
    "def calculate_log_probs(mu, sigma, x):\n",
    "    # Ensure sigma is positive\n",
    "    sigma = sigma + 1e-8\n",
    "\n",
    "    # Create a Normal distribution with mean `mu` and standard deviation `sigma`\n",
    "    normal_dist = dist.Normal(mu, sigma)\n",
    "\n",
    "    # Calculate log probabilities\n",
    "    log_probs = normal_dist.log_prob(x)\n",
    "\n",
    "    # Check for NaNs in the final log_probs\n",
    "    if torch.isnan(log_probs).any():\n",
    "        print(\"NaN detected in log_probs calculation\")\n",
    "\n",
    "    return log_probs"
   ]
  },
  {
   "cell_type": "code",
   "execution_count": 8,
   "id": "ec8001fa-7152-40b5-97b4-763c428f1850",
   "metadata": {},
   "outputs": [],
   "source": [
    "def select_action(policy_net, state, t):\n",
    "    # state = torch.from_numpy(state).float().unsqueeze(0)\n",
    "    mean, std = policy_net(state, t)\n",
    "    dist = torch.distributions.Normal(mean, std)\n",
    "    action = dist.sample()\n",
    "    action = action.clamp(-1.0, 1.0)  # Clamping the action to be within valid range\n",
    "    return action, dist.log_prob(action).sum()"
   ]
  },
  {
   "cell_type": "code",
   "execution_count": 12,
   "id": "79c12d05-bc10-42cd-9ee7-ff1b7276e278",
   "metadata": {},
   "outputs": [],
   "source": [
    "def train_rl(model, optimizer, nb_epochs=150_000, batch_size=6_000):\n",
    "    training_loss = []\n",
    "    rewards = []\n",
    "    for epoch in tqdm(range(nb_epochs)):\n",
    "        x0 = torch.from_numpy(sample_batch(batch_size)).float().to(device)\n",
    "        t = 40\n",
    "        mu_posterior, sigma_posterior, x = model.forward_process(x0, t)\n",
    "        log_probs = []\n",
    "        for t in range(40, 0, -1):\n",
    "            # mu, sigma, x = model.reverse(x, t)\n",
    "            x, log_prob = select_action(model.model, x, t)\n",
    "            log_probs.append(log_prob)\n",
    "            # if mu is not None and sigma is not None:\n",
    "            #     total_log_probs = calculate_log_probs(mu, sigma, x)\n",
    "            #     if torch.isnan(total_log_probs).any():\n",
    "            #         print(f\"NaN detected in total_log_probs at epoch {epoch}, step {t}\")\n",
    "            #         print(f\"mu: {mu}\")\n",
    "            #         print(f\"sigma: {sigma}\")\n",
    "            #         break\n",
    "            #     log_probs.append(total_log_probs)\n",
    "        \n",
    "        # print(torch.stack(log_probs).shape)\n",
    "        \n",
    "        reward = swiss_roll_reward(x.cpu().detach().numpy(), x0.cpu().detach().numpy())\n",
    "        rewards.append(reward)\n",
    "        # print(reward, end=', ')\n",
    "        reward = torch.tensor(reward, dtype=torch.float32).to(device)\n",
    "        if torch.isnan(reward).any():\n",
    "            print(f\"NaN detected in reward at epoch {epoch}\")\n",
    "            break\n",
    "        \n",
    "        log_probs_stack_sum = torch.stack(log_probs).sum()\n",
    "        loss = -reward * log_probs_stack_sum\n",
    "        if torch.isnan(loss).any():\n",
    "            print(f\"NaN detected in loss at epoch {epoch}\")\n",
    "            break\n",
    "        \n",
    "        optimizer.zero_grad()\n",
    "        loss.backward()\n",
    "        \n",
    "        # Check gradients\n",
    "        for name, param in model.named_parameters():\n",
    "            if param.grad is not None and torch.isnan(param.grad).any():\n",
    "                print(f\"NaN detected in gradients for {name} at epoch {epoch}\")\n",
    "                break\n",
    "        \n",
    "        # torch.nn.utils.clip_grad_norm_(model.parameters(), max_norm=1.0)\n",
    "        optimizer.step()\n",
    "        training_loss.append(loss.item())\n",
    "        \n",
    "        # Check parameters\n",
    "        for name, param in model.named_parameters():\n",
    "            if torch.isnan(param).any():\n",
    "                print(f\"NaN detected in parameters for {name} at epoch {epoch}\")\n",
    "                break\n",
    "\n",
    "    return training_loss, rewards"
   ]
  },
  {
   "cell_type": "code",
   "execution_count": 15,
   "id": "9a9c4a67-c8d2-4439-b502-db1c15f4ee04",
   "metadata": {},
   "outputs": [],
   "source": [
    "device = 'mps'\n",
    "# model_mlp = MLP(hidden_dim=128).to(device)\n",
    "policy_net = PolicyNetwork(2, 2).to(device)\n",
    "model = DiffusionModel(policy_net)\n",
    "optimizer = torch.optim.Adam(policy_net.parameters(), lr=1e-8)"
   ]
  },
  {
   "cell_type": "code",
   "execution_count": null,
   "id": "6df6247e-6b2f-48c1-8908-3367cd66cec8",
   "metadata": {},
   "outputs": [],
   "source": [
    "train(model, optimizer, nb_epo)"
   ]
  },
  {
   "cell_type": "code",
   "execution_count": 16,
   "id": "25e97979-f88e-48fe-ab19-07ade25c2c77",
   "metadata": {},
   "outputs": [
    {
     "name": "stderr",
     "output_type": "stream",
     "text": [
      "100%|█████████████████████████████████████████| 10000/10000 [31:20<00:00,  5.32it/s]\n"
     ]
    }
   ],
   "source": [
    "loss_rl, reward_rl = train_rl(model, optimizer, nb_epochs=10000)"
   ]
  },
  {
   "cell_type": "code",
   "execution_count": 17,
   "id": "30ee1ff6-aa5c-41ba-a262-7ac68bce117b",
   "metadata": {},
   "outputs": [
    {
     "data": {
      "image/png": "[encoded data removed]",
      "text/plain": [
       "<Figure size 1500x300 with 2 Axes>"
      ]
     },
     "metadata": {},
     "output_type": "display_data"
    }
   ],
   "source": [
    "plt.figure(figsize=(15, 3))\n",
    "plt.subplot(121)\n",
    "plt.plot(loss_rl[:])\n",
    "plt.title('Loss')\n",
    "plt.subplot(122)\n",
    "plt.plot(reward_rl[:])\n",
    "plt.title('Reward')\n",
    "plt.show()"
   ]
  },
  {
   "cell_type": "code",
   "execution_count": null,
   "id": "be7245b9-ae84-48cd-9679-0a5fdedcb6a7",
   "metadata": {},
   "outputs": [],
   "source": [
    "for name, param in model.named_parameters():\n",
    "    if param.grad is not None:\n",
    "        print(f\"Gradients for {name}: {param.grad}\")\n",
    "    else:\n",
    "        print(f\"Gradients for {name}: None\")"
   ]
  },
  {
   "cell_type": "code",
   "execution_count": null,
   "id": "c5037f5f-ab72-4a6a-bc36-c98a99a5bb9d",
   "metadata": {},
   "outputs": [],
   "source": [
    "plot(model)"
   ]
  },
  {
   "cell_type": "code",
   "execution_count": null,
   "id": "e10f70ee-c21e-4962-8171-99c22aa276a3",
   "metadata": {},
   "outputs": [],
   "source": []
  },
  {
   "cell_type": "code",
   "execution_count": null,
   "id": "d6b81654-566f-49e7-ac20-45d92a4a2e20",
   "metadata": {},
   "outputs": [],
   "source": []
  },
  {
   "cell_type": "code",
   "execution_count": null,
   "id": "1b7b2104-c426-48f0-93e9-a9da21469ed1",
   "metadata": {},
   "outputs": [],
   "source": [
    "meh = sample_batch(20)\n",
    "eh = sample_batch(1)\n",
    "swiss_roll_reward(eh, eh) "
   ]
  },
  {
   "cell_type": "code",
   "execution_count": null,
   "id": "869ffda0-a4b7-479a-bf0f-b7bcc4cbc8d0",
   "metadata": {},
   "outputs": [],
   "source": [
    "def generate_reference_swiss_roll(size):\n",
    "    X, _ = make_swiss_roll(size)\n",
    "    X = X[:, [2, 0]] / 10.0 * np.array([1, -1])  # Process to match sample_batch function\n",
    "    return X"
   ]
  },
  {
   "cell_type": "code",
   "execution_count": null,
   "id": "b5726eb6-4e7c-4581-b86b-962dd49e697e",
   "metadata": {},
   "outputs": [],
   "source": [
    "size = 1000\n",
    "reference_swiss_roll = generate_reference_swiss_roll(size)\n",
    "input_matrix = generate_reference_swiss_roll(size)  # Example input, should be replaced with actual input\n",
    "\n",
    "reward = swiss_roll_reward(input_matrix, reference_swiss_roll)\n",
    "print(\"Reward:\", reward)"
   ]
  },
  {
   "cell_type": "code",
   "execution_count": null,
   "id": "4047fa05-5e49-46e6-a59e-2aeb9743e6a3",
   "metadata": {},
   "outputs": [],
   "source": []
  }
 ],
 "metadata": {
  "kernelspec": {
   "display_name": "p12",
   "language": "python",
   "name": "p12"
  },
  "language_info": {
   "codemirror_mode": {
    "name": "ipython",
    "version": 3
   },
   "file_extension": ".py",
   "mimetype": "text/x-python",
   "name": "python",
   "nbconvert_exporter": "python",
   "pygments_lexer": "ipython3",
   "version": "3.12.3"
  }
 },
 "nbformat": 4,
 "nbformat_minor": 5
}
