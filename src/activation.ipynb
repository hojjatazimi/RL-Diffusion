{
 "cells": [
  {
   "cell_type": "code",
   "execution_count": 1,
   "metadata": {},
   "outputs": [],
   "source": [
    "import numpy as np\n",
    "import pandas as pd\n",
    "from methods import list_files_in_directory, init_model, load_model\n",
    "import torch\n",
    "from matplotlib import pyplot as plt\n",
    "from tqdm import tqdm\n",
    "import torch.nn.functional as F\n",
    "import os"
   ]
  },
  {
   "cell_type": "code",
   "execution_count": 2,
   "metadata": {},
   "outputs": [],
   "source": [
    "DEVICE = 'mps'"
   ]
  },
  {
   "cell_type": "code",
   "execution_count": 3,
   "metadata": {},
   "outputs": [],
   "source": [
    "model_name = \"01\"\n",
    "path_to_weights = (\n",
    "    \"/Users/hazimiasad/Documents/Work/megan/data/collection/Study1/sub-\"\n",
    "    + model_name\n",
    "    + \"/pattern/dc_weights.csv\"\n",
    ")\n",
    "\n",
    "\n",
    "path_to_in_data_1 = (\n",
    "    \"/Users/hazimiasad/Documents/Work/megan/data/collection/Study1/sub-\"\n",
    "    + model_name\n",
    "    + \"/pattern/in_data_d1.csv\"\n",
    ")\n",
    "path_to_in_data_2 = (\n",
    "    \"/Users/hazimiasad/Documents/Work/megan/data/collection/Study1/sub-\"\n",
    "    + model_name\n",
    "    + \"/pattern/in_data_d2.csv\"\n",
    ")\n",
    "path_to_in_data_3 = (\n",
    "    \"/Users/hazimiasad/Documents/Work/megan/data/collection/Study1/sub-\"\n",
    "    + model_name\n",
    "    + \"/pattern/in_data_d3.csv\"\n",
    ")"
   ]
  },
  {
   "cell_type": "code",
   "execution_count": 4,
   "metadata": {},
   "outputs": [],
   "source": [
    "weights = torch.from_numpy(pd.read_csv(path_to_weights, header=None).values.T).to(\n",
    "    DEVICE, dtype=torch.float32\n",
    ")\n",
    "state_size = len(weights)"
   ]
  },
  {
   "cell_type": "code",
   "execution_count": 5,
   "metadata": {},
   "outputs": [],
   "source": [
    "data_in_all_list = [pd.read_csv(path_to_in_data, header=None).values for path_to_in_data in [path_to_in_data_1, path_to_in_data_2, path_to_in_data_3]]\n",
    "data_in_all_array = np.vstack(data_in_all_list)"
   ]
  },
  {
   "cell_type": "code",
   "execution_count": 6,
   "metadata": {},
   "outputs": [],
   "source": [
    "BATCH_SIZE = len(data_in_all_array)\n",
    "N_STEPS = 40\n",
    "FC2_LENGTH = 128"
   ]
  },
  {
   "cell_type": "code",
   "execution_count": 7,
   "metadata": {},
   "outputs": [],
   "source": [
    "all_models_path = '/Users/hazimiasad/Documents/Work/megan/code/playground/RL-Diffusion/results/models/sub-'+model_name"
   ]
  },
  {
   "cell_type": "code",
   "execution_count": 8,
   "metadata": {},
   "outputs": [],
   "source": [
    "all_models = list_files_in_directory(all_models_path)"
   ]
  },
  {
   "cell_type": "code",
   "execution_count": 9,
   "metadata": {},
   "outputs": [],
   "source": [
    "def forward_with_fc2(self, state, t):\n",
    "    t = torch.tensor([t] * len(state)).to(self.device).unsqueeze(1)\n",
    "    state = torch.cat([state, t], dim=-1)\n",
    "    x = F.relu(self.fc1(state))\n",
    "    fc2_activation = F.relu(self.fc2(x))  # Capture FC2 output\n",
    "    mean = self.mean(fc2_activation)\n",
    "    log_std = self.log_std(fc2_activation)\n",
    "    std = torch.exp(log_std)\n",
    "    return mean, std, fc2_activation"
   ]
  },
  {
   "cell_type": "code",
   "execution_count": 10,
   "metadata": {},
   "outputs": [],
   "source": [
    "save_base_path = '/Users/hazimiasad/Documents/Work/megan/code/playground/RL-Diffusion/results/activations/sub-01/'"
   ]
  },
  {
   "cell_type": "code",
   "execution_count": 11,
   "metadata": {},
   "outputs": [
    {
     "name": "stderr",
     "output_type": "stream",
     "text": [
      "100%|██████████| 300/300 [2:37:44<00:00, 31.55s/it]  \n"
     ]
    }
   ],
   "source": [
    "for mod in tqdm (all_models, total=len(all_models)):\n",
    "    model = init_model(DEVICE, state_size, state_size)\n",
    "    model, model_name = load_model(model, mod)\n",
    "    model = model.to(DEVICE)\n",
    "\n",
    "    policy_network = model.policy\n",
    "    policy_network.forward = forward_with_fc2.__get__(policy_network)\n",
    "\n",
    "    activations = np.zeros((BATCH_SIZE, N_STEPS, FC2_LENGTH))\n",
    "\n",
    "    for x_idx, x in enumerate(data_in_all_array):\n",
    "        x = torch.from_numpy(x.reshape(1, state_size)).float().to(DEVICE)\n",
    "        for t in range(40, 0, -1):\n",
    "            with torch.no_grad():\n",
    "                mean, std, fc2_activation = policy_network.forward(x, t)\n",
    "                # mean, std = policy_network(x, t)\n",
    "            activations[x_idx, t-1] = fc2_activation.cpu()\n",
    "            dist = torch.distributions.Normal(mean, std)\n",
    "            action = dist.sample().clamp(-1.0, 1.0)\n",
    "            x = x + action\n",
    "    \n",
    "    np.save(os.path.join(save_base_path, f'epoch_{model_name}.npy'), activations)"
   ]
  },
  {
   "cell_type": "code",
   "execution_count": 10,
   "metadata": {},
   "outputs": [],
   "source": []
  },
  {
   "cell_type": "code",
   "execution_count": 11,
   "metadata": {},
   "outputs": [],
   "source": [
    "policy_network = model.policy\n",
    "policy_network.forward = forward_with_fc2.__get__(policy_network)"
   ]
  },
  {
   "cell_type": "code",
   "execution_count": 14,
   "metadata": {},
   "outputs": [],
   "source": [
    "activations = np.zeros((BATCH_SIZE, N_STEPS, FC2_LENGTH))\n",
    "\n",
    "# def get_activation(data_idx, step_idx):\n",
    "#     def hook(model, input, output):\n",
    "#         activations[data_idx, step_idx] = output.cpu().detach()  # Store activation without gradient computation\n",
    "#     return hook"
   ]
  },
  {
   "cell_type": "code",
   "execution_count": null,
   "metadata": {},
   "outputs": [],
   "source": [
    "for x_idx, x in tqdm(enumerate(data_in_all_array), total=len(data_in_all_array)):\n",
    "    x = torch.from_numpy(x.reshape(1, state_size)).float().to(DEVICE)\n",
    "    for t in range(40, 0, -1):\n",
    "        # policy_network.fc2.register_forward_hook(get_activation(x_idx, t - 1))\n",
    "        with torch.no_grad():\n",
    "            mean, std, fc2_activation = policy_network.forward(x, t)\n",
    "            # mean, std = policy_network(x, t)\n",
    "        activations[x_idx, t-1] = fc2_activation.cpu()\n",
    "        dist = torch.distributions.Normal(mean, std)\n",
    "        action = dist.sample().clamp(-1.0, 1.0)\n",
    "        x = x + action"
   ]
  },
  {
   "cell_type": "code",
   "execution_count": null,
   "metadata": {},
   "outputs": [],
   "source": []
  },
  {
   "cell_type": "code",
   "execution_count": 25,
   "metadata": {},
   "outputs": [],
   "source": [
    "np.save(os.path.join(save_base_path, f'epoch_{model_name}.npy'), activations)"
   ]
  },
  {
   "cell_type": "code",
   "execution_count": null,
   "metadata": {},
   "outputs": [],
   "source": []
  },
  {
   "cell_type": "code",
   "execution_count": null,
   "metadata": {},
   "outputs": [],
   "source": [
    "plt.imshow(activations['fc2'].cpu())\n",
    "plt.colorbar()\n",
    "plt.show()"
   ]
  },
  {
   "cell_type": "code",
   "execution_count": null,
   "metadata": {},
   "outputs": [],
   "source": []
  }
 ],
 "metadata": {
  "kernelspec": {
   "display_name": "p12",
   "language": "python",
   "name": "p12"
  },
  "language_info": {
   "codemirror_mode": {
    "name": "ipython",
    "version": 3
   },
   "file_extension": ".py",
   "mimetype": "text/x-python",
   "name": "python",
   "nbconvert_exporter": "python",
   "pygments_lexer": "ipython3",
   "version": "3.12.3"
  }
 },
 "nbformat": 4,
 "nbformat_minor": 2
}
