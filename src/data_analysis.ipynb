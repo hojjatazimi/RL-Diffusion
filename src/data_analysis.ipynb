{
 "cells": [
  {
   "cell_type": "code",
   "execution_count": 1,
   "metadata": {},
   "outputs": [],
   "source": [
    "import nibabel as nib\n",
    "import numpy as np\n",
    "import pandas as pd\n",
    "import os\n",
    "import itertools"
   ]
  },
  {
   "cell_type": "code",
   "execution_count": null,
   "metadata": {},
   "outputs": [],
   "source": [
    "SUB = '02'\n",
    "base_dir = f\"/Users/hazimiasad/Documents/Work/megan/data/collection/Study1/sub-{SUB}\"  # Replace with your actual path\n",
    "func_dirs = [os.path.join(base_dir, \"func\", f\"ses-{i+1}\") for i in range(3)] \n",
    "pattern_dir = os.path.join(base_dir, \"pattern\")\n",
    "bold_files = [os.path.join(func_dir, f\"sub-{SUB}_task-nfb_bold_run-{j+1}.nii.gz\") for func_dir,j in itertools.product(func_dirs, range(20))]  # Example run\n",
    "mask_file = os.path.join(pattern_dir, \"roivox_mask.nii.gz\")\n",
    "# motion_file = os.path.join(func_dir, \"sub-01_task-nfb_motion-parms.txt\")"
   ]
  },
  {
   "cell_type": "code",
   "execution_count": 3,
   "metadata": {},
   "outputs": [],
   "source": [
    "mask_img = nib.load(mask_file)\n",
    "mask_data = mask_img.get_fdata()  # Shape: (x, y, z)\n",
    "\n",
    "all_roi_timeseries = []\n",
    "for bold_file in bold_files:\n",
    "    if not os.path.exists(bold_file):\n",
    "        continue\n",
    "        # raise FileNotFoundError(f\"BOLD file not found: {bold_file}\")\n",
    "    bold_img = nib.load(bold_file)\n",
    "    bold_data = bold_img.get_fdata()  # Shape: (x, y, z, timepoints)\n",
    "    n_timepoints = bold_data.shape[-1]\n",
    "    roi_voxels = np.where(mask_data > 0)\n",
    "    bold_2d = bold_data.reshape(-1, n_timepoints)\n",
    "    voxel_indices = np.ravel_multi_index(roi_voxels, bold_data.shape[:3])  # Convert 3D indices to 1D\n",
    "    roi_timeseries = bold_2d[voxel_indices, :]\n",
    "    all_roi_timeseries.append(roi_timeseries)"
   ]
  },
  {
   "cell_type": "code",
   "execution_count": 4,
   "metadata": {},
   "outputs": [
    {
     "ename": "ValueError",
     "evalue": "need at least one array to concatenate",
     "output_type": "error",
     "traceback": [
      "\u001b[0;31m---------------------------------------------------------------------------\u001b[0m",
      "\u001b[0;31mValueError\u001b[0m                                Traceback (most recent call last)",
      "Cell \u001b[0;32mIn[4], line 1\u001b[0m\n\u001b[0;32m----> 1\u001b[0m all_roi_timeseries \u001b[38;5;241m=\u001b[39m \u001b[43mnp\u001b[49m\u001b[38;5;241;43m.\u001b[39;49m\u001b[43mhstack\u001b[49m\u001b[43m(\u001b[49m\u001b[43mall_roi_timeseries\u001b[49m\u001b[43m)\u001b[49m\n",
      "File \u001b[0;32m~/Documents/Work/megan/code/envs/p12/lib/python3.12/site-packages/numpy/_core/shape_base.py:367\u001b[0m, in \u001b[0;36mhstack\u001b[0;34m(tup, dtype, casting)\u001b[0m\n\u001b[1;32m    365\u001b[0m     \u001b[38;5;28;01mreturn\u001b[39;00m _nx\u001b[38;5;241m.\u001b[39mconcatenate(arrs, \u001b[38;5;241m0\u001b[39m, dtype\u001b[38;5;241m=\u001b[39mdtype, casting\u001b[38;5;241m=\u001b[39mcasting)\n\u001b[1;32m    366\u001b[0m \u001b[38;5;28;01melse\u001b[39;00m:\n\u001b[0;32m--> 367\u001b[0m     \u001b[38;5;28;01mreturn\u001b[39;00m \u001b[43m_nx\u001b[49m\u001b[38;5;241;43m.\u001b[39;49m\u001b[43mconcatenate\u001b[49m\u001b[43m(\u001b[49m\u001b[43marrs\u001b[49m\u001b[43m,\u001b[49m\u001b[43m \u001b[49m\u001b[38;5;241;43m1\u001b[39;49m\u001b[43m,\u001b[49m\u001b[43m \u001b[49m\u001b[43mdtype\u001b[49m\u001b[38;5;241;43m=\u001b[39;49m\u001b[43mdtype\u001b[49m\u001b[43m,\u001b[49m\u001b[43m \u001b[49m\u001b[43mcasting\u001b[49m\u001b[38;5;241;43m=\u001b[39;49m\u001b[43mcasting\u001b[49m\u001b[43m)\u001b[49m\n",
      "\u001b[0;31mValueError\u001b[0m: need at least one array to concatenate"
     ]
    }
   ],
   "source": [
    "all_roi_timeseries = np.hstack(all_roi_timeseries)"
   ]
  },
  {
   "cell_type": "code",
   "execution_count": null,
   "metadata": {},
   "outputs": [],
   "source": [
    "from scipy.stats import zscore\n",
    "\n",
    "# Z-score normalize all_roi_timeseries along axis 1\n",
    "all_roi_timeseries_zscore = zscore(all_roi_timeseries, axis=1)"
   ]
  },
  {
   "cell_type": "code",
   "execution_count": null,
   "metadata": {},
   "outputs": [],
   "source": [
    "save_path = f\"../results/raw_data/sub-{SUB}\"\n",
    "if not os.path.exists(save_path):\n",
    "    os.makedirs(save_path)\n",
    "np.save(os.path.join(save_path, 'all_roi_timeseries_zscore.npy'), all_roi_timeseries_zscore)"
   ]
  },
  {
   "cell_type": "code",
   "execution_count": null,
   "metadata": {},
   "outputs": [],
   "source": []
  },
  {
   "cell_type": "code",
   "execution_count": null,
   "metadata": {},
   "outputs": [],
   "source": []
  }
 ],
 "metadata": {
  "kernelspec": {
   "display_name": "p12",
   "language": "python",
   "name": "p12"
  },
  "language_info": {
   "codemirror_mode": {
    "name": "ipython",
    "version": 3
   },
   "file_extension": ".py",
   "mimetype": "text/x-python",
   "name": "python",
   "nbconvert_exporter": "python",
   "pygments_lexer": "ipython3",
   "version": "3.12.3"
  }
 },
 "nbformat": 4,
 "nbformat_minor": 2
}
