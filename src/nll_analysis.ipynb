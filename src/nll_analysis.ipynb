{
 "cells": [
  {
   "cell_type": "code",
   "execution_count": null,
   "metadata": {},
   "outputs": [],
   "source": [
    "import numpy as np\n",
    "from matplotlib import pyplot as plt\n",
    "import pandas as pd\n",
    "from scipy.stats import gaussian_kde\n",
    "from scipy.stats import norm"
   ]
  },
  {
   "cell_type": "code",
   "execution_count": null,
   "metadata": {},
   "outputs": [],
   "source": [
    "def get_model_rewards(model_name, group):\n",
    "    model_pth = f'../results/rewards/{group}/sub-'+model_name+'/'+'rewards_30.npy'\n",
    "    model_rewards = np.load(model_pth)\n",
    "    return model_rewards"
   ]
  },
  {
   "cell_type": "code",
   "execution_count": null,
   "metadata": {},
   "outputs": [],
   "source": [
    "def get_subject_reward_paths(model_name):\n",
    "    subject_rewards_1_pth = '/Users/hazimiasad/Documents/Work/megan/data/collection/Study1/sub-'+model_name+'/pattern/in_score_d1.csv'\n",
    "    subject_rewards_2_pth = '/Users/hazimiasad/Documents/Work/megan/data/collection/Study1/sub-'+model_name+'/pattern/in_score_d2.csv'\n",
    "    subject_rewards_3_pth = '/Users/hazimiasad/Documents/Work/megan/data/collection/Study1/sub-'+model_name+'/pattern/in_score_d3.csv'\n",
    "    all_subject_reward_pths = [subject_rewards_1_pth, subject_rewards_2_pth, subject_rewards_3_pth]\n",
    "    return all_subject_reward_pths"
   ]
  },
  {
   "cell_type": "code",
   "execution_count": null,
   "metadata": {},
   "outputs": [],
   "source": [
    "def get_subject_rewards(all_subject_reward_pths, limit):\n",
    "    subject_rewards = [pd.read_csv(pth, header=None).values[:limit] for pth in all_subject_reward_pths]\n",
    "    subject_rewards = np.vstack(subject_rewards)\n",
    "    return subject_rewards"
   ]
  },
  {
   "cell_type": "code",
   "execution_count": null,
   "metadata": {},
   "outputs": [],
   "source": [
    "def fit_gaussian_and_compute_nll(train_data, test_data):\n",
    "    # Fit a Gaussian distribution to the training data\n",
    "    mu, sigma = np.mean(train_data), np.std(train_data, ddof=1)  # Unbiased estimator\n",
    "    \n",
    "    # Compute the negative log-likelihood (NLL) for the test data\n",
    "    nll = -np.sum(norm.logpdf(test_data, loc=mu, scale=sigma))\n",
    "    \n",
    "    return mu, sigma, nll"
   ]
  },
  {
   "cell_type": "code",
   "execution_count": null,
   "metadata": {},
   "outputs": [],
   "source": [
    "def calc_nlls(model_rewards, subject_rewards):\n",
    "    nlls = np.zeros((len(model_rewards), np.shape(model_rewards)[2]))\n",
    "    for idx, model_reward in enumerate(model_rewards):\n",
    "        for rep in range(np.shape(model_rewards)[2]):\n",
    "            _, _, nll = fit_gaussian_and_compute_nll(\n",
    "                subject_rewards, model_reward[:, rep]\n",
    "            )\n",
    "            nlls[idx, rep] = nll\n",
    "    return nlls"
   ]
  },
  {
   "cell_type": "code",
   "execution_count": null,
   "metadata": {},
   "outputs": [],
   "source": [
    "def calculate_min_nlls_and_indices(group):\n",
    "    min_nlls = np.zeros(24)\n",
    "    min_nll_indices = np.zeros(24)\n",
    "    for i in range(1, 25):\n",
    "        model_name = f\"{i:02}\"\n",
    "        model_rewards = get_model_rewards(model_name, group)\n",
    "        all_subject_reward_pths = get_subject_reward_paths(model_name)\n",
    "        subject_rewards = get_subject_rewards(all_subject_reward_pths, 15)\n",
    "        nlls = calc_nlls(model_rewards, subject_rewards)\n",
    "        nlls_mean = np.mean(nlls, axis=0)\n",
    "        min_nll = np.min(nlls_mean)\n",
    "        min_nll_index = np.argmin(nlls_mean)\n",
    "        min_nlls[i-1] = min_nll\n",
    "        min_nll_indices[i-1] = min_nll_index\n",
    "    return min_nlls, min_nll_indices"
   ]
  },
  {
   "cell_type": "code",
   "execution_count": null,
   "metadata": {},
   "outputs": [],
   "source": [
    "min_nlls_rl, min_nll_indices_rl = calculate_min_nlls_and_indices('rl')\n",
    "min_nlls_gradient, min_nll_indices_gradient = calculate_min_nlls_and_indices('gradient')\n"
   ]
  },
  {
   "cell_type": "code",
   "execution_count": null,
   "metadata": {},
   "outputs": [],
   "source": [
    "bins = 20\n",
    "fig, axs = plt.subplots(1, 2, figsize=(10, 4))\n",
    "\n",
    "# Histogram for min_nlls_rl and min_nlls_gradient\n",
    "axs[0].hist(min_nlls_rl, bins=bins, alpha=1, label='RL-Diffusion', color='blue')\n",
    "axs[0].hist(min_nlls_gradient, bins=bins, alpha=0.5, label='Control-Diffusion', color='red')\n",
    "axs[0].set_title('Histogram of NLL Values')\n",
    "axs[0].set_xlabel('NLL Values')\n",
    "axs[0].set_ylabel('Frequency')\n",
    "axs[0].legend()\n",
    "axs[0].set_yticks([axs[0].get_yticks()[0], axs[0].get_yticks()[-1]])\n",
    "axs[0].set_xticks([0,  axs[0].get_xticks()[int(len(axs[0].get_xticks())/2)] , axs[0].get_xticks()[-2]])\n",
    "\n",
    "# Histogram for min_nll_indices_rl and min_nll_indices_gradient\n",
    "axs[1].hist(min_nll_indices_rl*10, bins=bins, alpha=1, label='RL-Diffusion', color='blue')\n",
    "axs[1].hist(min_nll_indices_gradient*3, bins=bins, alpha=0.5, label='Control-Diffusion', color='red')\n",
    "axs[1].set_title('Histogram of min indices')\n",
    "axs[1].set_xlabel('Training Epochs')\n",
    "axs[1].set_ylabel('Frequency')\n",
    "axs[1].set_xticks([1, 150, 300])\n",
    "axs[1].legend()\n",
    "axs[1].set_yticks([axs[1].get_yticks()[0], axs[1].get_yticks()[-1]])\n",
    "\n",
    "fig.suptitle('NLL Analysis')\n",
    "plt.tight_layout()\n",
    "plt.show()\n"
   ]
  },
  {
   "cell_type": "code",
   "execution_count": null,
   "metadata": {},
   "outputs": [],
   "source": [
    "def get_all_model_rewards(group):\n",
    "    all_model_rewards = []\n",
    "    for i in range(1, 25):\n",
    "        model_name = f\"{i:02}\"\n",
    "        model_rewards = get_model_rewards(model_name, group)\n",
    "        all_model_rewards.append(model_rewards)\n",
    "    return all_model_rewards\n",
    "\n",
    "all_model_rewards_rl = get_all_model_rewards('rl')\n",
    "all_model_rewards_gradient = get_all_model_rewards('gradient')"
   ]
  },
  {
   "cell_type": "code",
   "execution_count": null,
   "metadata": {
    "vscode": {
     "languageId": "ruby"
    }
   },
   "outputs": [],
   "source": [
    "all_model_rewards_rl = [np.mean(rewards, axis=2) for rewards in all_model_rewards_rl]\n",
    "all_model_rewards_gradient = [np.mean(rewards, axis=2) for rewards in all_model_rewards_gradient]"
   ]
  },
  {
   "cell_type": "code",
   "execution_count": null,
   "metadata": {
    "vscode": {
     "languageId": "ruby"
    }
   },
   "outputs": [],
   "source": [
    "all_model_rewards_rl = [np.mean(rewards, axis=1) for rewards in all_model_rewards_rl]\n",
    "all_model_rewards_gradient = [np.mean(rewards, axis=1) for rewards in all_model_rewards_gradient]"
   ]
  },
  {
   "cell_type": "code",
   "execution_count": null,
   "metadata": {
    "vscode": {
     "languageId": "ruby"
    }
   },
   "outputs": [],
   "source": [
    "for i, ii in enumerate(all_model_rewards_rl):\n",
    "    print(ii.shape, min_nll_indices_rl[i])"
   ]
  },
  {
   "cell_type": "code",
   "execution_count": null,
   "metadata": {},
   "outputs": [],
   "source": [
    "# Extract the y values based on min_nll_indices_rl\n",
    "y_values_rl = []\n",
    "for i in range(len(min_nll_indices_rl)):\n",
    "    index = int(min_nll_indices_rl[i])\n",
    "    if index < len(all_model_rewards_rl[i]):\n",
    "        y_values_rl.append(all_model_rewards_rl[i][index])\n",
    "    else:\n",
    "        y_values_rl.append(np.nan)  # Handle out-of-bounds index\n",
    "\n",
    "# Extract the y values based on min_nll_indices_gradient\n",
    "y_values_gradient = []\n",
    "for i in range(len(min_nll_indices_gradient)):\n",
    "    index = int(min_nll_indices_gradient[i])\n",
    "    if index < len(all_model_rewards_gradient[i]):\n",
    "        y_values_gradient.append(all_model_rewards_gradient[i][index])\n",
    "    else:\n",
    "        y_values_gradient.append(np.nan)  # Handle out-of-bounds index\n",
    "\n",
    "# Create the scatter plot for both RL and Gradient\n",
    "plt.scatter(min_nlls_rl, y_values_rl, label='RL-Diffusion', color='blue')\n",
    "plt.scatter(min_nlls_gradient, y_values_gradient, label='Control-Diffusion', color='red')\n",
    "plt.xlabel('Min NLL Value')\n",
    "plt.ylabel('All Model Rewards [Min NLL Index]')\n",
    "plt.title('Scatter Plot of Min NLL Values vs All Model Rewards')\n",
    "plt.legend()\n",
    "plt.show()\n"
   ]
  },
  {
   "cell_type": "code",
   "execution_count": null,
   "metadata": {},
   "outputs": [],
   "source": []
  }
 ],
 "metadata": {
  "kernelspec": {
   "display_name": "p12",
   "language": "python",
   "name": "p12"
  },
  "language_info": {
   "codemirror_mode": {
    "name": "ipython",
    "version": 3
   },
   "file_extension": ".py",
   "mimetype": "text/x-python",
   "name": "python",
   "nbconvert_exporter": "python",
   "pygments_lexer": "ipython3",
   "version": "3.12.3"
  }
 },
 "nbformat": 4,
 "nbformat_minor": 2
}
