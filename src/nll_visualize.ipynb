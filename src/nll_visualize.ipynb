{
 "cells": [
  {
   "cell_type": "code",
   "execution_count": null,
   "metadata": {},
   "outputs": [],
   "source": [
    "import numpy as np\n",
    "from matplotlib import pyplot as plt\n",
    "import pandas as pd\n",
    "from scipy.stats import gaussian_kde\n",
    "from scipy.stats import norm"
   ]
  },
  {
   "cell_type": "code",
   "execution_count": null,
   "metadata": {},
   "outputs": [],
   "source": [
    "model_name = '06'"
   ]
  },
  {
   "cell_type": "code",
   "execution_count": null,
   "metadata": {},
   "outputs": [],
   "source": [
    "model_pth = '../results/rewards/gradient/sub-'+model_name+'/'+'rewards_30.npy'\n",
    "model_rewards = np.load(model_pth)"
   ]
  },
  {
   "cell_type": "code",
   "execution_count": null,
   "metadata": {},
   "outputs": [],
   "source": [
    "subject_rewards_1_pth = '/Users/hazimiasad/Documents/Work/megan/data/collection/Study1/sub-'+model_name+'/pattern/in_score_d1.csv'\n",
    "subject_rewards_2_pth = '/Users/hazimiasad/Documents/Work/megan/data/collection/Study1/sub-'+model_name+'/pattern/in_score_d2.csv'\n",
    "subject_rewards_3_pth = '/Users/hazimiasad/Documents/Work/megan/data/collection/Study1/sub-'+model_name+'/pattern/in_score_d3.csv'\n",
    "all_subject_reward_pths = [subject_rewards_1_pth, subject_rewards_2_pth, subject_rewards_3_pth]"
   ]
  },
  {
   "cell_type": "code",
   "execution_count": null,
   "metadata": {},
   "outputs": [],
   "source": [
    "subject_rewards = [pd.read_csv(pth, header=None).values for pth in all_subject_reward_pths]\n",
    "subject_rewards = np.vstack(subject_rewards)"
   ]
  },
  {
   "cell_type": "code",
   "execution_count": null,
   "metadata": {},
   "outputs": [],
   "source": [
    "def fit_gaussian_and_compute_nll(train_data, test_data):\n",
    "    # Fit a Gaussian distribution to the training data\n",
    "    mu, sigma = np.mean(train_data), np.std(train_data, ddof=1)  # Unbiased estimator\n",
    "    \n",
    "    # Compute the negative log-likelihood (NLL) for the test data\n",
    "    nll = -np.sum(norm.logpdf(test_data, loc=mu, scale=sigma))\n",
    "    \n",
    "    return mu, sigma, nll"
   ]
  },
  {
   "cell_type": "code",
   "execution_count": null,
   "metadata": {},
   "outputs": [],
   "source": [
    "fit_gaussian_and_compute_nll(subject_rewards, model_rewards[0, :, 0])"
   ]
  },
  {
   "cell_type": "code",
   "execution_count": null,
   "metadata": {},
   "outputs": [],
   "source": [
    "nlls = np.zeros((len(model_rewards), np.shape(model_rewards)[2]))\n",
    "for idx, model_reward in enumerate(model_rewards):\n",
    "    for rep in range(np.shape(model_rewards)[2]):\n",
    "        _, _, nll = fit_gaussian_and_compute_nll(subject_rewards, model_reward[:,  rep])\n",
    "        nlls[idx, rep] = nll"
   ]
  },
  {
   "cell_type": "code",
   "execution_count": null,
   "metadata": {},
   "outputs": [],
   "source": [
    "plt.figure(figsize=(10, 6))\n",
    "plt.boxplot(nlls.T, labels=[f'Model {i+1}' for i in range(nlls.shape[0])])\n",
    "plt.xlabel('Model')\n",
    "plt.ylabel('Negative Log-Likelihood (NLL)')\n",
    "plt.title('Box Plots of NLLs for Different Models')\n",
    "\n",
    "fig_nanme = 'sub-'+model_name+'_nll_boxplot.pdf'\n",
    "plt.savefig('../results/Imgs/sub-'+model_name+'/'+fig_nanme)\n",
    "plt.show()"
   ]
  },
  {
   "cell_type": "code",
   "execution_count": null,
   "metadata": {},
   "outputs": [],
   "source": []
  }
 ],
 "metadata": {
  "kernelspec": {
   "display_name": "p12",
   "language": "python",
   "name": "p12"
  },
  "language_info": {
   "codemirror_mode": {
    "name": "ipython",
    "version": 3
   },
   "file_extension": ".py",
   "mimetype": "text/x-python",
   "name": "python",
   "nbconvert_exporter": "python",
   "pygments_lexer": "ipython3",
   "version": "3.12.3"
  }
 },
 "nbformat": 4,
 "nbformat_minor": 2
}
