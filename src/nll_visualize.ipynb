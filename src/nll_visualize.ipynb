{
 "cells": [
  {
   "cell_type": "code",
   "execution_count": null,
   "metadata": {},
   "outputs": [],
   "source": [
    "import numpy as np\n",
    "from matplotlib import pyplot as plt\n",
    "import pandas as pd"
   ]
  },
  {
   "cell_type": "code",
   "execution_count": null,
   "metadata": {},
   "outputs": [],
   "source": [
    "model_name = '01'"
   ]
  },
  {
   "cell_type": "code",
   "execution_count": null,
   "metadata": {},
   "outputs": [],
   "source": [
    "model_pth = '../results/rewards/gradient/sub-'+model_name+'/'+'rewards.npy'\n",
    "model_rewards = np.load(model_pth)"
   ]
  },
  {
   "cell_type": "code",
   "execution_count": null,
   "metadata": {},
   "outputs": [],
   "source": [
    "subject_rewards_1_pth = '/Users/hazimiasad/Documents/Work/megan/data/collection/Study1/sub-'+model_name+'/pattern/in_score_d1.csv'\n",
    "subject_rewards_2_pth = '/Users/hazimiasad/Documents/Work/megan/data/collection/Study1/sub-'+model_name+'/pattern/in_score_d2.csv'\n",
    "subject_rewards_3_pth = '/Users/hazimiasad/Documents/Work/megan/data/collection/Study1/sub-'+model_name+'/pattern/in_score_d3.csv'\n",
    "all_subject_reward_pths = [subject_rewards_1_pth, subject_rewards_2_pth, subject_rewards_3_pth]"
   ]
  },
  {
   "cell_type": "code",
   "execution_count": null,
   "metadata": {},
   "outputs": [],
   "source": [
    "subject_rewards = [pd.read_csv(pth, header=None).values for pth in all_subject_reward_pths]\n",
    "subject_rewards = np.vstack(subject_rewards)"
   ]
  },
  {
   "cell_type": "code",
   "execution_count": null,
   "metadata": {},
   "outputs": [],
   "source": [
    "from sklearn.feature_selection import mutual_info_regression\n",
    "\n",
    "\n",
    "# Flatten the model_rewards array to match the shape of subject_rewards\n",
    "MIs = np.zeros((model_rewards.shape[0]))\n",
    "for idx, model_reward in enumerate(model_rewards):\n",
    "    model_rewards_flat = model_reward.flatten()\n",
    "    subject_rewards_flat = subject_rewards.flatten()\n",
    "\n",
    "    # Calculate mutual information\n",
    "    mutual_info = mutual_info_regression(subject_rewards_flat, model_rewards_flat)\n",
    "    MIs[idx] = mutual_info"
   ]
  },
  {
   "cell_type": "code",
   "execution_count": null,
   "metadata": {},
   "outputs": [],
   "source": [
    "plt.plot(MIs)"
   ]
  },
  {
   "cell_type": "code",
   "execution_count": null,
   "metadata": {},
   "outputs": [],
   "source": []
  },
  {
   "cell_type": "code",
   "execution_count": null,
   "metadata": {},
   "outputs": [],
   "source": []
  }
 ],
 "metadata": {
  "kernelspec": {
   "display_name": "p12",
   "language": "python",
   "name": "p12"
  },
  "language_info": {
   "codemirror_mode": {
    "name": "ipython",
    "version": 3
   },
   "file_extension": ".py",
   "mimetype": "text/x-python",
   "name": "python",
   "nbconvert_exporter": "python",
   "pygments_lexer": "ipython3",
   "version": "3.12.3"
  }
 },
 "nbformat": 4,
 "nbformat_minor": 2
}
