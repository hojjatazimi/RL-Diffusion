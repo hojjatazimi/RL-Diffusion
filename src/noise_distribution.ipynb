{
 "cells": [
  {
   "cell_type": "code",
   "execution_count": null,
   "metadata": {},
   "outputs": [],
   "source": [
    "import numpy as np\n",
    "import pandas as pd\n",
    "from methods import list_files_in_directory, init_model, load_model\n",
    "import torch\n",
    "from matplotlib import pyplot as plt\n",
    "from tqdm import tqdm\n",
    "import torch.nn.functional as F\n",
    "import os"
   ]
  },
  {
   "cell_type": "code",
   "execution_count": null,
   "metadata": {},
   "outputs": [],
   "source": [
    "DEVICE = 'mps'"
   ]
  },
  {
   "cell_type": "code",
   "execution_count": null,
   "metadata": {},
   "outputs": [],
   "source": [
    "model_name = \"02\"\n",
    "path_to_weights = (\n",
    "    \"/Users/hazimiasad/Documents/Work/megan/data/collection/Study1/sub-\"\n",
    "    + model_name\n",
    "    + \"/pattern/dc_weights.csv\"\n",
    ")\n",
    "\n",
    "\n",
    "path_to_in_data_1 = (\n",
    "    \"/Users/hazimiasad/Documents/Work/megan/data/collection/Study1/sub-\"\n",
    "    + model_name\n",
    "    + \"/pattern/in_data_d1.csv\"\n",
    ")\n",
    "path_to_in_data_2 = (\n",
    "    \"/Users/hazimiasad/Documents/Work/megan/data/collection/Study1/sub-\"\n",
    "    + model_name\n",
    "    + \"/pattern/in_data_d2.csv\"\n",
    ")\n",
    "path_to_in_data_3 = (\n",
    "    \"/Users/hazimiasad/Documents/Work/megan/data/collection/Study1/sub-\"\n",
    "    + model_name\n",
    "    + \"/pattern/in_data_d3.csv\"\n",
    ")"
   ]
  },
  {
   "cell_type": "code",
   "execution_count": null,
   "metadata": {},
   "outputs": [],
   "source": [
    "weights = torch.from_numpy(pd.read_csv(path_to_weights, header=None).values.T).to(\n",
    "    DEVICE, dtype=torch.float32\n",
    ")\n",
    "state_size = len(weights)"
   ]
  },
  {
   "cell_type": "code",
   "execution_count": null,
   "metadata": {},
   "outputs": [],
   "source": [
    "data_in_all_list = [pd.read_csv(path_to_in_data, header=None).values for path_to_in_data in [path_to_in_data_1, path_to_in_data_2, path_to_in_data_3]]\n",
    "data_in_all_array = np.vstack(data_in_all_list)"
   ]
  },
  {
   "cell_type": "code",
   "execution_count": null,
   "metadata": {},
   "outputs": [],
   "source": [
    "BATCH_SIZE = len(data_in_all_array)\n",
    "N_STEPS = 40\n",
    "FC2_LENGTH = 128"
   ]
  },
  {
   "cell_type": "code",
   "execution_count": null,
   "metadata": {},
   "outputs": [],
   "source": [
    "GROUP = 'gradient' # 'rl' or 'gradient'"
   ]
  },
  {
   "cell_type": "code",
   "execution_count": null,
   "metadata": {},
   "outputs": [],
   "source": [
    "all_models_path = '/Users/hazimiasad/Documents/Work/megan/code/playground/RL-Diffusion/results/models/'+GROUP+'/sub-'+model_name"
   ]
  },
  {
   "cell_type": "code",
   "execution_count": null,
   "metadata": {},
   "outputs": [],
   "source": [
    "all_models = list_files_in_directory(all_models_path)"
   ]
  },
  {
   "cell_type": "code",
   "execution_count": null,
   "metadata": {},
   "outputs": [],
   "source": [
    "save_base_path = '/Users/hazimiasad/Documents/Work/megan/code/playground/RL-Diffusion/results/noise_distribution/'+GROUP+'/sub-'+model_name+'/'"
   ]
  },
  {
   "cell_type": "code",
   "execution_count": null,
   "metadata": {},
   "outputs": [],
   "source": [
    "reps = 1"
   ]
  },
  {
   "cell_type": "code",
   "execution_count": null,
   "metadata": {},
   "outputs": [],
   "source": [
    "mod = all_models[-1]\n",
    "model = init_model(DEVICE, state_size, state_size)\n",
    "model, _ = load_model(model, mod)\n",
    "model = model.to(DEVICE)\n",
    "\n",
    "means = np.zeros((len(data_in_all_array), N_STEPS, state_size))\n",
    "stds = np.zeros((len(data_in_all_array), N_STEPS, state_size))\n",
    "\n",
    "for x_idx, x_main in tqdm(enumerate(data_in_all_array), total=len(data_in_all_array)):\n",
    "    x = torch.from_numpy(x_main.reshape(1, state_size)).float().to(DEVICE)\n",
    "    for rep in range(reps):\n",
    "        for step, t in enumerate(range(N_STEPS, 0, -1)):\n",
    "            with torch.no_grad():\n",
    "                action, _, mean, std = model.select_action(x, t)\n",
    "                x = x + action\n",
    "\n",
    "                means[x_idx, step] += mean.cpu().numpy().reshape(state_size)\n",
    "                stds[x_idx, step] += std.cpu().numpy().reshape(state_size)\n"
   ]
  },
  {
   "cell_type": "code",
   "execution_count": null,
   "metadata": {},
   "outputs": [],
   "source": [
    "# Create the directory if it does not exist\n",
    "os.makedirs(save_base_path, exist_ok=True)\n",
    "\n",
    "np.save(save_base_path+'means.npy', means)\n",
    "np.save(save_base_path+'stds.npy', stds)"
   ]
  },
  {
   "cell_type": "code",
   "execution_count": null,
   "metadata": {},
   "outputs": [],
   "source": [
    "means_mean = np.mean(means, axis=0)\n",
    "stds_mean = np.mean(stds, axis=0)"
   ]
  },
  {
   "cell_type": "code",
   "execution_count": null,
   "metadata": {},
   "outputs": [],
   "source": [
    "means_mean_normalized = (means_mean - means_mean.min(axis=0, keepdims=True)) / (means_mean.max(axis=0, keepdims=True) - means_mean.min(axis=0, keepdims=True))\n",
    "stds_mean_normalized = (stds_mean - stds_mean.min(axis=0, keepdims=True)) / (stds_mean.max(axis=0, keepdims=True) - stds_mean.min(axis=0, keepdims=True))"
   ]
  },
  {
   "cell_type": "code",
   "execution_count": null,
   "metadata": {},
   "outputs": [],
   "source": [
    "fig_save_base = '../results/Imgs/sub-'+model_name+'/'"
   ]
  },
  {
   "cell_type": "code",
   "execution_count": null,
   "metadata": {},
   "outputs": [],
   "source": [
    "plt.figure(figsize=(5, 10))\n",
    "\n",
    "plt.subplot(2, 1, 1)\n",
    "plt.imshow((means_mean.T), aspect='auto')\n",
    "plt.colorbar()\n",
    "plt.title('Mean')\n",
    "plt.xlabel('Denoising Step')\n",
    "plt.ylabel('Voxel')\n",
    "\n",
    "plt.subplot(2, 1, 2, sharex=plt.gca())\n",
    "plt.imshow(stds_mean.T, aspect='auto')\n",
    "plt.colorbar()\n",
    "plt.title('Std')\n",
    "plt.xlabel('Denoising Step')\n",
    "plt.ylabel('Voxel')\n",
    "\n",
    "plt.savefig(fig_save_base+'sub-'+model_name+'_noise_distribution_means_std_raw_'+GROUP+'.pdf')\n",
    "\n",
    "plt.show()"
   ]
  },
  {
   "cell_type": "code",
   "execution_count": null,
   "metadata": {},
   "outputs": [],
   "source": [
    "plt.figure(figsize=(5, 10))\n",
    "\n",
    "plt.subplot(2, 1, 1)\n",
    "plt.imshow((means_mean_normalized.T), aspect='auto')\n",
    "plt.colorbar()\n",
    "plt.title('Mean')\n",
    "plt.xlabel('Denoising Step')\n",
    "plt.ylabel('Voxel')\n",
    "\n",
    "plt.subplot(2, 1, 2, sharex=plt.gca())\n",
    "plt.imshow(stds_mean_normalized.T, aspect='auto')\n",
    "plt.colorbar()\n",
    "plt.title('Std')\n",
    "plt.xlabel('Denoising Step')\n",
    "plt.ylabel('Voxel')\n",
    "\n",
    "plt.savefig(fig_save_base+'sub-'+model_name+'_noise_distribution_means_std_normalized_'+GROUP+'.pdf')\n",
    "\n",
    "plt.show()"
   ]
  },
  {
   "cell_type": "code",
   "execution_count": null,
   "metadata": {},
   "outputs": [],
   "source": [
    "from sklearn.cluster import KMeans\n",
    "\n",
    "# Number of clusters\n",
    "n_clusters = 5\n",
    "\n",
    "# Perform KMeans clustering\n",
    "kmeans_means = KMeans(n_clusters=n_clusters, random_state=0).fit(means_mean_normalized.T)\n",
    "# kmeans_stds = KMeans(n_clusters=n_clusters, random_state=0).fit(stds_mean_normalized.T)\n",
    "\n",
    "# Get the cluster labels\n",
    "labels_means = kmeans_means.labels_\n",
    "# labels_stds = kmeans_stds.labels_\n",
    "\n",
    "# Reorder the means_mean_normalized based on the cluster labels\n",
    "sorted_indices_means = np.argsort(labels_means)\n",
    "means_mean_normalized_sorted = means_mean_normalized[:, sorted_indices_means]\n",
    "\n",
    "stds_mean_normalized_sorted = stds_mean_normalized[:, sorted_indices_means]\n",
    "\n",
    "plt.figure(figsize=(5, 10))\n",
    "\n",
    "plt.subplot(2, 1, 1)\n",
    "plt.imshow((means_mean_normalized_sorted.T), aspect='auto')\n",
    "plt.colorbar()\n",
    "plt.title('Mean')\n",
    "plt.xlabel('Denoising Step')\n",
    "plt.ylabel('Voxel')\n",
    "\n",
    "plt.subplot(2, 1, 2, sharex=plt.gca())\n",
    "plt.imshow(stds_mean_normalized_sorted.T, aspect='auto')\n",
    "plt.colorbar()\n",
    "plt.title('Std')\n",
    "plt.xlabel('Denoising Step')\n",
    "plt.ylabel('Voxel')\n",
    "\n",
    "plt.savefig(fig_save_base+'sub-'+model_name+'_noise_distribution_means_std_normalized_clustered_'+GROUP+'.pdf')\n",
    "\n",
    "plt.show()"
   ]
  },
  {
   "cell_type": "code",
   "execution_count": null,
   "metadata": {},
   "outputs": [],
   "source": []
  }
 ],
 "metadata": {
  "kernelspec": {
   "display_name": "p12",
   "language": "python",
   "name": "p12"
  },
  "language_info": {
   "codemirror_mode": {
    "name": "ipython",
    "version": 3
   },
   "file_extension": ".py",
   "mimetype": "text/x-python",
   "name": "python",
   "nbconvert_exporter": "python",
   "pygments_lexer": "ipython3",
   "version": "3.12.3"
  }
 },
 "nbformat": 4,
 "nbformat_minor": 2
}
