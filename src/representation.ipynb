{
 "cells": [
  {
   "cell_type": "code",
   "execution_count": 1,
   "metadata": {},
   "outputs": [],
   "source": [
    "import numpy as np\n",
    "from matplotlib import pyplot as plt\n",
    "from classes.policy_network import PolicyNetwork\n",
    "from classes.diffusion_model import DiffusionModel\n",
    "import pandas as pd\n",
    "import torch\n",
    "import torch.nn.functional as F\n",
    "from torch import nn\n",
    "from methods import sample_batch\n",
    "from methods import reward_function\n",
    "import os\n",
    "import numpy as np\n",
    "import matplotlib.pyplot as plt\n",
    "from matplotlib.cm import ScalarMappable\n",
    "from matplotlib.colors import Normalize\n",
    "from time import time"
   ]
  },
  {
   "cell_type": "code",
   "execution_count": 2,
   "metadata": {},
   "outputs": [],
   "source": [
    "DEVICE = 'mps'"
   ]
  },
  {
   "cell_type": "code",
   "execution_count": 3,
   "metadata": {},
   "outputs": [],
   "source": [
    "model_name = \"02\"\n",
    "path_to_weights = (\n",
    "    \"/Users/hazimiasad/Documents/Work/megan/data/collection/Study1/sub-\"\n",
    "    + model_name\n",
    "    + \"/pattern/dc_weights.csv\"\n",
    ")\n",
    "weights = torch.from_numpy(pd.read_csv(path_to_weights, header=None).values.T).to(\n",
    "    DEVICE, dtype=torch.float32\n",
    ")\n",
    "state_size = len(weights)"
   ]
  },
  {
   "cell_type": "code",
   "execution_count": 4,
   "metadata": {},
   "outputs": [],
   "source": [
    "all_models_path = '/Users/hazimiasad/Documents/Work/megan/code/playground/RL-Diffusion/results/models/sub-'+model_name\n",
    "save_path = '/Users/hazimiasad/Documents/Work/megan/code/playground/RL-Diffusion/results/Imgs/sub-'+model_name+'/'"
   ]
  },
  {
   "cell_type": "code",
   "execution_count": 5,
   "metadata": {},
   "outputs": [],
   "source": [
    "def list_files_in_directory(directory):\n",
    "    \"\"\"\n",
    "    List all files in the given directory, including their full paths.\n",
    "\n",
    "    :param directory: Path to the directory\n",
    "    :return: List of full file paths\n",
    "    \"\"\"\n",
    "    file_list = []\n",
    "    for root, dirs, files in os.walk(directory):\n",
    "        for file in files:\n",
    "            file_list.append(os.path.join(root, file))\n",
    "    return file_list"
   ]
  },
  {
   "cell_type": "code",
   "execution_count": 6,
   "metadata": {},
   "outputs": [],
   "source": [
    "all_models = list_files_in_directory(all_models_path)"
   ]
  },
  {
   "cell_type": "code",
   "execution_count": 7,
   "metadata": {},
   "outputs": [],
   "source": [
    "def init_model(device):\n",
    "    policy_net = PolicyNetwork(state_size, state_size, device=device).to(device)\n",
    "    model = DiffusionModel(policy_net, device=device)\n",
    "    return model\n"
   ]
  },
  {
   "cell_type": "code",
   "execution_count": 8,
   "metadata": {},
   "outputs": [],
   "source": [
    "def load_model(model, path):\n",
    "    # checkpoint_path = \"/Users/hazimiasad/Documents/Work/megan/code/playground/RL-Diffusion/results/models/1736749094.248426.pth\"\n",
    "    checkpoint = torch.load(path)\n",
    "    model.load_state_dict(checkpoint['model_state_dict'])\n",
    "    model.eval()\n",
    "    return model"
   ]
  },
  {
   "cell_type": "code",
   "execution_count": 11,
   "metadata": {},
   "outputs": [
    {
     "ename": "IndexError",
     "evalue": "index 100 is out of bounds for axis 0 with size 100",
     "output_type": "error",
     "traceback": [
      "\u001b[0;31m---------------------------------------------------------------------------\u001b[0m",
      "\u001b[0;31mIndexError\u001b[0m                                Traceback (most recent call last)",
      "Cell \u001b[0;32mIn[11], line 6\u001b[0m\n\u001b[1;32m      4\u001b[0m model \u001b[38;5;241m=\u001b[39m load_model(model, model_path)\n\u001b[1;32m      5\u001b[0m step_scores \u001b[38;5;241m=\u001b[39m calc_step_scores(model)\n\u001b[0;32m----> 6\u001b[0m \u001b[43mall_rewards\u001b[49m\u001b[43m[\u001b[49m\u001b[43mi\u001b[49m\u001b[43m,\u001b[49m\u001b[43m \u001b[49m\u001b[43m:\u001b[49m\u001b[43m,\u001b[49m\u001b[43m \u001b[49m\u001b[43m:\u001b[49m\u001b[43m]\u001b[49m \u001b[38;5;241m=\u001b[39m step_scores\n",
      "\u001b[0;31mIndexError\u001b[0m: index 100 is out of bounds for axis 0 with size 100"
     ]
    }
   ],
   "source": [
    "all_rewards = np.zeros((len(all_models[:100]), 100, 40))\n",
    "for i, model_path in enumerate(all_models):\n",
    "    model = init_model(DEVICE)\n",
    "    model = load_model(model, model_path)\n",
    "    step_scores = calc_step_scores(model)\n",
    "    all_rewards[i, :, :] = step_scores"
   ]
  },
  {
   "cell_type": "code",
   "execution_count": 10,
   "metadata": {},
   "outputs": [],
   "source": [
    "def calc_step_scores(model):\n",
    "    xs = np.zeros((100, 40))\n",
    "    for i in range(100):\n",
    "        x = torch.from_numpy(sample_batch(state_size)).float().to(DEVICE)\n",
    "        states = []\n",
    "        for t in range(40, 0, -1):\n",
    "            states.append(x)\n",
    "            action, _, _, _ = model.select_action(x, t)\n",
    "            x = x + action\n",
    "            \n",
    "        rewards = [reward_function(x, weights).item() for x in states]\n",
    "        xs[i, :] = np.array(rewards)\n",
    "    return xs"
   ]
  },
  {
   "cell_type": "code",
   "execution_count": 32,
   "metadata": {},
   "outputs": [],
   "source": [
    "def plot_CI(xs, label='Mean'):\n",
    "    mean = np.mean(xs, axis=0)\n",
    "    sem = np.std(xs, axis=0) / np.sqrt(xs.shape[0])  # SEM = std / sqrt(n)\n",
    "\n",
    "    # Compute confidence intervals (e.g., 95% CI)\n",
    "    ci_upper = mean + 1.96 * sem\n",
    "    ci_lower = mean - 1.96 * sem\n",
    "\n",
    "    # Plot the mean\n",
    "    plt.plot(mean, label=label)\n",
    "\n",
    "    # Fill the confidence interval\n",
    "    plt.fill_between(range(mean.shape[0]), ci_lower, ci_upper,  alpha=0.2)#, label='95% CI'\n",
    "\n",
    "    # Add labels and legend\n",
    "    plt.xlabel('Denoising step')\n",
    "    plt.ylabel('Score')\n",
    "    # plt.legend()\n",
    "    # plt.show()"
   ]
  },
  {
   "cell_type": "code",
   "execution_count": null,
   "metadata": {},
   "outputs": [],
   "source": [
    "model = init_model(DEVICE)\n",
    "model = load_model(model, all_models[0])\n",
    "step_scores = calc_step_scores(model)\n",
    "plot_CI(step_scores)\n",
    "plt.legend()\n",
    "plt.show()"
   ]
  },
  {
   "cell_type": "code",
   "execution_count": null,
   "metadata": {},
   "outputs": [],
   "source": [
    "plt.figure(figsize=(15, 5))\n",
    "for i in range(len(all_rewards)):\n",
    "    rewards = all_rewards[i, :, :]\n",
    "    plot_CI(rewards, str(i))\n",
    "# plt.legend()\n",
    "plt.show()"
   ]
  },
  {
   "cell_type": "code",
   "execution_count": null,
   "metadata": {},
   "outputs": [],
   "source": [
    "data = all_rewards_mean.copy()[:100]\n",
    "cmap = plt.get_cmap('coolwarm')\n",
    "norm = Normalize(vmin=0, vmax=data.shape[0])  # Normalize based on the index range\n",
    "fig, ax = plt.subplots(figsize=(12, 6))\n",
    "for idx, row in enumerate(data):\n",
    "    color = cmap(norm(idx))  # Get the color based on the index\n",
    "    ax.scatter(range(40), data[idx, :], color=color)\n",
    "    # ax.plot(row, color=color, alpha=.6)\n",
    "\n",
    "# Add a colorbar for reference\n",
    "sm = ScalarMappable(cmap=cmap, norm=norm)\n",
    "sm.set_array([])\n",
    "cbar = plt.colorbar(sm, ax=ax)\n",
    "cbar.set_label('Episode')\n",
    "\n",
    "ax.set_xlabel('Denoising step')  \n",
    "ax.set_ylabel('Score')  \n",
    "\n",
    "plt.title('Sub-'+model_name)\n",
    "\n",
    "# for i in range(300):\n",
    "#     plt.scatter(range(40), data[i, :], color=color)\n",
    "plt.savefig(save_path + model_name+'_score_step_epoch_scatter_'+str(time())+'.pdf')\n",
    "plt.show()"
   ]
  },
  {
   "cell_type": "code",
   "execution_count": null,
   "metadata": {},
   "outputs": [],
   "source": [
    "all_rewards_mean = np.mean(all_rewards, axis=1)"
   ]
  },
  {
   "cell_type": "code",
   "execution_count": null,
   "metadata": {},
   "outputs": [],
   "source": [
    "# Generate some example data\n",
    "data = all_rewards_mean.copy()[:100]\n",
    "\n",
    "# Prepare the figure and axis\n",
    "fig, ax = plt.subplots(figsize=(12, 6))\n",
    "\n",
    "# Create a colormap from blue to red\n",
    "cmap = plt.get_cmap('coolwarm')\n",
    "norm = Normalize(vmin=0, vmax=data.shape[0])  # Normalize based on the index range\n",
    "\n",
    "# Plot each line\n",
    "for idx, row in enumerate(data):\n",
    "    color = cmap(norm(idx))  # Get the color based on the index\n",
    "    ax.plot(row, color=color, alpha=.9)\n",
    "\n",
    "# Add a colorbar for reference\n",
    "sm = ScalarMappable(cmap=cmap, norm=norm)\n",
    "sm.set_array([])\n",
    "cbar = plt.colorbar(sm, ax=ax)\n",
    "cbar.set_label('Episode')\n",
    "\n",
    "ax.set_xlabel('Denoising step')  \n",
    "ax.set_ylabel('Score')  \n",
    "plt.title('Sub-'+model_name)\n",
    "\n",
    "plt.savefig(save_path + model_name+'_score_step_epoch_line'+str(time())+'.pdf')\n",
    "\n",
    "plt.show()"
   ]
  },
  {
   "cell_type": "code",
   "execution_count": null,
   "metadata": {},
   "outputs": [],
   "source": [
    "plt.bar(range(40), np.mean(all_rewards_mean[:100], axis=0))\n",
    "plt.ylim(.48, .83)\n",
    "plt.xlabel('Denoising step')\n",
    "plt.ylabel('Score')\n",
    "plt.title('Sub-'+model_name)\n",
    "\n",
    "plt.savefig(save_path + \"sub-\"+model_name+'_score_step_mean_bar_'+str(time())+'.pdf')\n",
    "\n",
    "plt.show()"
   ]
  },
  {
   "cell_type": "code",
   "execution_count": null,
   "metadata": {},
   "outputs": [],
   "source": []
  }
 ],
 "metadata": {
  "kernelspec": {
   "display_name": "p12",
   "language": "python",
   "name": "p12"
  },
  "language_info": {
   "codemirror_mode": {
    "name": "ipython",
    "version": 3
   },
   "file_extension": ".py",
   "mimetype": "text/x-python",
   "name": "python",
   "nbconvert_exporter": "python",
   "pygments_lexer": "ipython3",
   "version": "3.12.3"
  }
 },
 "nbformat": 4,
 "nbformat_minor": 2
}
