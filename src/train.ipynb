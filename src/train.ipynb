{
 "cells": [
  {
   "cell_type": "code",
   "execution_count": 5,
   "metadata": {},
   "outputs": [],
   "source": [
    "import torch\n",
    "import torch.nn.functional as F\n",
    "import numpy as np\n",
    "from torch import nn\n",
    "from tqdm import tqdm\n",
    "import torch.utils.data\n",
    "import matplotlib.pyplot as plt\n",
    "from sklearn.datasets import make_swiss_roll\n",
    "from sklearn.metrics import mean_squared_error\n",
    "from time import time\n",
    "import pandas as pd"
   ]
  },
  {
   "cell_type": "code",
   "execution_count": 6,
   "metadata": {},
   "outputs": [],
   "source": [
    "DEVICE = 'mps'"
   ]
  },
  {
   "cell_type": "code",
   "execution_count": 7,
   "metadata": {},
   "outputs": [],
   "source": [
    "def sample_batch(size):\n",
    "    x, _ = make_swiss_roll(size)\n",
    "    x = x[:, [2, 0]] / 10.0 * np.array([1, -1])\n",
    "    return x[:, 0].reshape((1, size))"
   ]
  },
  {
   "cell_type": "code",
   "execution_count": 8,
   "metadata": {},
   "outputs": [],
   "source": [
    "def reward_function(features, weights, bias=None):\n",
    "    # Calculate the linear combination\n",
    "    logits = torch.matmul(features, weights)\n",
    "\n",
    "    # If bias is provided, add it to the logits\n",
    "    if bias is not None:\n",
    "        logits += bias\n",
    "\n",
    "    # Apply the sigmoid function to get the probabilities\n",
    "    probabilities = torch.sigmoid(logits)\n",
    "\n",
    "    return probabilities"
   ]
  },
  {
   "cell_type": "code",
   "execution_count": 9,
   "metadata": {},
   "outputs": [],
   "source": [
    "model_name = \"15\"\n",
    "path_to_weights = (\n",
    "    \"/Users/hazimiasad/Documents/Work/megan/data/collection/Study1/sub-\"\n",
    "    + model_name\n",
    "    + \"/pattern/dc_weights.csv\"\n",
    ")\n",
    "weights = torch.from_numpy(pd.read_csv(path_to_weights, header=None).values.T).to(\n",
    "    DEVICE, dtype=torch.float32\n",
    ")\n",
    "state_size = len(weights)"
   ]
  },
  {
   "cell_type": "code",
   "execution_count": 10,
   "metadata": {},
   "outputs": [],
   "source": [
    "def train_rl(model, optimizer, nb_epochs=150_000, batch_size=6_000):\n",
    "    training_loss = []\n",
    "    rewards = []\n",
    "    for epoch in tqdm(range(nb_epochs)):\n",
    "        x0 = torch.from_numpy(sample_batch(batch_size)).float().to(device)\n",
    "        t = 40\n",
    "        mu_posterior, sigma_posterior, x = model.forward_process(x0, t)\n",
    "        log_probs = []\n",
    "        for t in range(40, 0, -1):\n",
    "            # mu, sigma, x = model.reverse(x, t)\n",
    "            x, log_prob, _, _ = select_action(model.model, x, t)\n",
    "            log_probs.append(log_prob)\n",
    "\n",
    "\n",
    "        # print(torch.stack(log_probs).shape)\n",
    "\n",
    "        # reward = swiss_roll_reward(x.cpu().detach().numpy(), x0.cpu().detach().numpy())\n",
    "        reward = calculate_probability(x, weights)\n",
    "        rewards.append(reward)\n",
    "        # print(reward, end=', ')\n",
    "        reward = torch.tensor(reward, dtype=torch.float32).to(device)\n",
    "        if torch.isnan(reward).any():\n",
    "            print(f\"NaN detected in reward at epoch {epoch}\")\n",
    "            break\n",
    "\n",
    "        log_probs_stack_sum = torch.stack(log_probs).sum()\n",
    "        loss = -reward * log_probs_stack_sum\n",
    "        if torch.isnan(loss).any():\n",
    "            print(f\"NaN detected in loss at epoch {epoch}\")\n",
    "            break\n",
    "\n",
    "        optimizer.zero_grad()\n",
    "        loss.backward()\n",
    "\n",
    "        # Check gradients\n",
    "        for name, param in model.named_parameters():\n",
    "            if param.grad is not None and torch.isnan(param.grad).any():\n",
    "                print(f\"NaN detected in gradients for {name} at epoch {epoch}\")\n",
    "                break\n",
    "\n",
    "        # torch.nn.utils.clip_grad_norm_(model.parameters(), max_norm=1.0)\n",
    "        optimizer.step()\n",
    "        training_loss.append(loss.item())\n",
    "\n",
    "        # Check parameters\n",
    "        for name, param in model.named_parameters():\n",
    "            if torch.isnan(param).any():\n",
    "                print(f\"NaN detected in parameters for {name} at epoch {epoch}\")\n",
    "                break\n",
    "\n",
    "    return training_loss, rewards"
   ]
  },
  {
   "cell_type": "code",
   "execution_count": 11,
   "metadata": {},
   "outputs": [],
   "source": [
    "from classes.policy_network import PolicyNetwork"
   ]
  },
  {
   "cell_type": "code",
   "execution_count": 12,
   "metadata": {},
   "outputs": [],
   "source": [
    "policy_net = PolicyNetwork(state_size, state_size, device=DEVICE).to(DEVICE)\n",
    "# model = DiffusionModel(policy_net)\n",
    "# optimizer = torch.optim.Adam(policy_net.parameters(), lr=1e-4)"
   ]
  },
  {
   "cell_type": "code",
   "execution_count": null,
   "metadata": {},
   "outputs": [],
   "source": []
  }
 ],
 "metadata": {
  "kernelspec": {
   "display_name": "p12",
   "language": "python",
   "name": "p12"
  },
  "language_info": {
   "codemirror_mode": {
    "name": "ipython",
    "version": 3
   },
   "file_extension": ".py",
   "mimetype": "text/x-python",
   "name": "python",
   "nbconvert_exporter": "python",
   "pygments_lexer": "ipython3",
   "version": "3.12.3"
  }
 },
 "nbformat": 4,
 "nbformat_minor": 2
}
