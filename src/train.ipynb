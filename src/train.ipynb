{
 "cells": [
  {
   "cell_type": "code",
   "execution_count": null,
   "metadata": {},
   "outputs": [],
   "source": [
    "import torch\n",
    "import torch.nn.functional as F\n",
    "import numpy as np\n",
    "from torch import nn\n",
    "from tqdm import tqdm\n",
    "import torch.utils.data\n",
    "import matplotlib.pyplot as plt\n",
    "from sklearn.datasets import make_swiss_roll\n",
    "from sklearn.metrics import mean_squared_error\n",
    "from time import time\n",
    "import pandas as pd"
   ]
  },
  {
   "cell_type": "code",
   "execution_count": 1,
   "metadata": {},
   "outputs": [],
   "source": [
    "def sample_batch(size):\n",
    "    x, _ = make_swiss_roll(size)\n",
    "    x = x[:, [2, 0]] / 10.0 * np.array([1, -1])\n",
    "    return x[:, 0].reshape((1, size))"
   ]
  },
  {
   "cell_type": "code",
   "execution_count": 2,
   "metadata": {},
   "outputs": [],
   "source": [
    "def reward_function(features, weights, bias=None):\n",
    "    # Calculate the linear combination\n",
    "    logits = torch.matmul(features, weights)\n",
    "\n",
    "    # If bias is provided, add it to the logits\n",
    "    if bias is not None:\n",
    "        logits += bias\n",
    "\n",
    "    # Apply the sigmoid function to get the probabilities\n",
    "    probabilities = torch.sigmoid(logits)\n",
    "\n",
    "    return probabilities"
   ]
  },
  {
   "cell_type": "code",
   "execution_count": null,
   "metadata": {},
   "outputs": [],
   "source": [
    "model_name = \"15\"\n",
    "path_to_weights = (\n",
    "    \"/Users/hazimiasad/Documents/Work/megan/data/collection/Study1/sub-\"\n",
    "    + model_name\n",
    "    + \"/pattern/dc_weights.csv\"\n",
    ")\n",
    "weights = torch.from_numpy(\n",
    "    pd.read_csv(path_to_weights, header=None).values.T\n",
    ").to(\"cuda\", dtype=torch.float32)\n",
    "state_size = len(weights)"
   ]
  }
 ],
 "metadata": {
  "kernelspec": {
   "display_name": "p12",
   "language": "python",
   "name": "p12"
  },
  "language_info": {
   "codemirror_mode": {
    "name": "ipython",
    "version": 3
   },
   "file_extension": ".py",
   "mimetype": "text/x-python",
   "name": "python",
   "nbconvert_exporter": "python",
   "pygments_lexer": "ipython3",
   "version": "3.12.3"
  }
 },
 "nbformat": 4,
 "nbformat_minor": 2
}
