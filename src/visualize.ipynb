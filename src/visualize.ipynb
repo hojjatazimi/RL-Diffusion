{
 "cells": [
  {
   "cell_type": "code",
   "execution_count": null,
   "metadata": {},
   "outputs": [],
   "source": [
    "import numpy as np\n",
    "import matplotlib.pyplot as plt\n",
    "import os\n",
    "import torch\n",
    "import seaborn"
   ]
  },
  {
   "cell_type": "code",
   "execution_count": null,
   "metadata": {},
   "outputs": [],
   "source": [
    "def find_latest_file_in_subfolders(base_folder):\n",
    "    output = []\n",
    "    for folder_name in sorted(os.listdir(base_folder)):  # Sort subfolder names if needed\n",
    "        folder_path = os.path.join(base_folder, folder_name)\n",
    "        \n",
    "        if os.path.isdir(folder_path) and folder_name.startswith('sub'):\n",
    "            files = sorted(os.listdir(folder_path))  # Sort files by name\n",
    "            \n",
    "            if files:  # Ensure folder is not empty\n",
    "                last_file = files[-1]  # Get last file after sorting\n",
    "                file = base_folder + '/' + folder_name + '/' + last_file\n",
    "                output.append(file)\n",
    "    return output"
   ]
  },
  {
   "cell_type": "code",
   "execution_count": null,
   "metadata": {},
   "outputs": [],
   "source": [
    "# Example usage\n",
    "base_directory = \"../results/models\"\n",
    "all_files = find_latest_file_in_subfolders(base_directory)"
   ]
  },
  {
   "cell_type": "code",
   "execution_count": null,
   "metadata": {},
   "outputs": [],
   "source": [
    "def load_loss_and_rewards(path):\n",
    "    f = torch.load(path)\n",
    "    loss = np.array(f['loss'])\n",
    "    reward = f['rewards']\n",
    "    reward = np.array([r.item() for r in reward])\n",
    "    # reward = np.array(reward)\n",
    "    return loss, reward"
   ]
  },
  {
   "cell_type": "code",
   "execution_count": null,
   "metadata": {},
   "outputs": [],
   "source": [
    "all_loss = np.zeros((len(all_files), 300))\n",
    "all_reward = np.zeros((len(all_files), 300))\n",
    "for file in all_files:\n",
    "    loss, reward = load_loss_and_rewards(file)\n",
    "    all_loss[all_files.index(file)] = loss[:300]\n",
    "    all_reward[all_files.index(file)] = reward[:300]"
   ]
  },
  {
   "cell_type": "code",
   "execution_count": null,
   "metadata": {
    "vscode": {
     "languageId": "ruby"
    }
   },
   "outputs": [],
   "source": [
    "# Set a professional style\n",
    "# plt.style.use('seaborn-darkgrid')\n",
    "\n",
    "# Calculate mean and standard deviation for loss\n",
    "mean_loss = np.mean(all_loss, axis=0)\n",
    "std_loss = np.std(all_loss, axis=0)\n",
    "\n",
    "# Calculate the confidence interval (95% confidence) for loss\n",
    "confidence_interval_loss = 1.96 * std_loss / np.sqrt(all_loss.shape[0])\n",
    "\n",
    "# Calculate mean and standard deviation for reward\n",
    "mean_reward = np.mean(all_reward, axis=0)\n",
    "std_reward = np.std(all_reward, axis=0)\n",
    "\n",
    "# Calculate the confidence interval (95% confidence) for reward\n",
    "confidence_interval_reward = 1.96 * std_reward / np.sqrt(all_reward.shape[0])\n",
    "\n",
    "# Plot the mean with confidence interval for loss and reward\n",
    "fig, axs = plt.subplots(2, 1, figsize=(7, 4))\n",
    "\n",
    "# Plot for loss\n",
    "axs[0].plot(mean_loss, label='Mean Loss', color='blue')\n",
    "axs[0].fill_between(range(len(mean_loss)), mean_loss - confidence_interval_loss, mean_loss + confidence_interval_loss, color='blue', alpha=0.2, label='95% Confidence Interval')\n",
    "axs[0].set_xlabel('Epoch', fontsize=12)\n",
    "axs[0].set_ylabel('Loss', fontsize=12)\n",
    "axs[0].set_title('Mean Loss with 95% Confidence Interval', fontsize=14)\n",
    "axs[0].legend(fontsize=10)\n",
    "# axs[0].grid(True)\n",
    "axs[0].spines['right'].set_visible(False)\n",
    "axs[0].spines['top'].set_visible(False)\n",
    "\n",
    "# Set xticks for loss plot\n",
    "xticks = [0, len(mean_loss) // 2, len(mean_loss) - 1]\n",
    "xtick_labels = [str(xtick + 1) for xtick in xticks]\n",
    "axs[0].set_xticks(xticks)\n",
    "axs[0].set_xticklabels(xtick_labels)\n",
    "\n",
    "# Plot for reward\n",
    "axs[1].plot(mean_reward, label='Mean Reward', color='green')\n",
    "axs[1].fill_between(range(len(mean_reward)), mean_reward - confidence_interval_reward, mean_reward + confidence_interval_reward, color='green', alpha=0.2, label='95% Confidence Interval')\n",
    "axs[1].set_xlabel('Epoch', fontsize=12)\n",
    "axs[1].set_ylabel('Reward', fontsize=12)\n",
    "axs[1].set_title('Mean Reward with 95% Confidence Interval', fontsize=14)\n",
    "axs[1].legend(fontsize=10)\n",
    "# axs[1].grid(True)\n",
    "axs[1].spines['right'].set_visible(False)\n",
    "axs[1].spines['top'].set_visible(False)\n",
    "\n",
    "# Set xticks for reward plot\n",
    "axs[1].set_xticks(xticks)\n",
    "axs[1].set_xticklabels(xtick_labels)\n",
    "\n",
    "# Adjust layout and show plot\n",
    "plt.tight_layout()\n",
    "plt.savefig('../results/Imgs/group_level/mean_loss_reward_RL.pdf')\n",
    "plt.show()"
   ]
  },
  {
   "cell_type": "code",
   "execution_count": null,
   "metadata": {},
   "outputs": [],
   "source": []
  }
 ],
 "metadata": {
  "kernelspec": {
   "display_name": "p12",
   "language": "python",
   "name": "p12"
  },
  "language_info": {
   "codemirror_mode": {
    "name": "ipython",
    "version": 3
   },
   "file_extension": ".py",
   "mimetype": "text/x-python",
   "name": "python",
   "nbconvert_exporter": "python",
   "pygments_lexer": "ipython3",
   "version": "3.12.3"
  }
 },
 "nbformat": 4,
 "nbformat_minor": 2
}
